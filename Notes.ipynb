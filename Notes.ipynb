{
  "cells": [
    {
      "cell_type": "markdown",
      "metadata": {
        "id": "view-in-github",
        "colab_type": "text"
      },
      "source": [
        "<a href=\"https://colab.research.google.com/github/106216845/lab01/blob/main/Welcome_To_Colab.ipynb\" target=\"_parent\"><img src=\"https://colab.research.google.com/assets/colab-badge.svg\" alt=\"Open In Colab\"/></a>"
      ]
    },
    {
      "cell_type": "markdown",
      "source": [
        "# Learning Python through google colab\n",
        "# Lesson 1: Getting Started"
      ],
      "metadata": {
        "id": "44VQXZQpvUYr"
      }
    },
    {
      "cell_type": "code",
      "source": [],
      "metadata": {
        "id": "o_9EeZkHv1PF"
      },
      "execution_count": null,
      "outputs": []
    },
    {
      "cell_type": "markdown",
      "metadata": {
        "id": "d39899d0"
      },
      "source": [
        "## Bài học Python 1: Bắt đầu với Python\n",
        "\n",
        "Chào mừng bạn đến với thế giới của Python! Python là một ngôn ngữ lập trình mạnh mẽ và dễ học, được sử dụng rộng rãi trong nhiều lĩnh vực như phát triển web, phân tích dữ liệu, trí tuệ nhân tạo, v.v.\n",
        "\n",
        "Trong bài học này, chúng ta sẽ tìm hiểu những khái niệm cơ bản nhất của Python.\n",
        "\n",
        "### 1. In ra màn hình (Hello, World!)\n",
        "\n",
        "Công việc đầu tiên của mọi lập trình viên khi học một ngôn ngữ mới là in ra dòng chữ \"Hello, World!\" Chúng ta sẽ sử dụng hàm `print()` để làm điều này."
      ]
    },
    {
      "cell_type": "code",
      "metadata": {
        "id": "a7fb2be4"
      },
      "source": [
        "print(\"Hello, World!\")"
      ],
      "execution_count": null,
      "outputs": []
    },
    {
      "cell_type": "markdown",
      "metadata": {
        "id": "ed36b7d7"
      },
      "source": [
        "### 2. Biến và Kiểu dữ liệu\n",
        "\n",
        "Biến là nơi chúng ta lưu trữ dữ liệu. Python có nhiều kiểu dữ liệu khác nhau, ví dụ:\n",
        "\n",
        "*   **Số nguyên (int):** Các số không có phần thập phân (ví dụ: 1, 10, -5).\n",
        "*   **Số thực (float):** Các số có phần thập phân (ví dụ: 1.0, 3.14, -2.5).\n",
        "*   **Chuỗi (str):** Các ký tự được đặt trong dấu ngoặc kép (`\"` ) hoặc dấu ngoặc đơn (`'`) (ví dụ: \"xin chào\", 'Python').\n",
        "*   **Boolean (bool):** Chỉ có hai giá trị là `True` hoặc `False`."
      ]
    },
    {
      "cell_type": "code",
      "metadata": {
        "colab": {
          "base_uri": "https://localhost:8080/"
        },
        "id": "cec99372",
        "outputId": "53c578a5-ecb0-45a6-b1fb-2be51ad3aedb"
      },
      "source": [
        "# Ví dụ về biến và kiểu dữ liệu\n",
        "so_nguyen = 10\n",
        "so_thuc = 3.14\n",
        "chuoi_ky_tu = \"Đây là một chuỗi\"\n",
        "gia_tri_boolean = True\n",
        "\n",
        "print(so_nguyen)\n",
        "print(so_thuc)\n",
        "print(chuoi_ky_tu)\n",
        "print(gia_tri_boolean)"
      ],
      "execution_count": 1,
      "outputs": [
        {
          "output_type": "stream",
          "name": "stdout",
          "text": [
            "10\n",
            "3.14\n",
            "Đây là một chuỗi\n",
            "True\n"
          ]
        }
      ]
    },
    {
      "cell_type": "markdown",
      "metadata": {
        "id": "796a39ef"
      },
      "source": [
        "### 3. Các phép toán cơ bản\n",
        "\n",
        "Python hỗ trợ các phép toán cơ bản như cộng (+), trừ (-), nhân (*), chia (/)."
      ]
    },
    {
      "cell_type": "code",
      "metadata": {
        "id": "5c41d677"
      },
      "source": [
        "# Ví dụ về các phép toán\n",
        "a = 10\n",
        "b = 5\n",
        "\n",
        "tong = a + b\n",
        "hieu = a - b\n",
        "tich = a * b\n",
        "thuong = a / b\n",
        "\n",
        "print(\"Tổng:\", tong)\n",
        "print(\"Hiệu:\", hieu)\n",
        "print(\"Tích:\", tich)\n",
        "print(\"Thương:\", thuong)"
      ],
      "execution_count": null,
      "outputs": []
    },
    {
      "cell_type": "markdown",
      "metadata": {
        "id": "52e14c01"
      },
      "source": [
        "### 4. Câu lệnh điều kiện (if, elif, else)\n",
        "\n",
        "Câu lệnh điều kiện giúp chương trình của chúng ta đưa ra quyết định dựa trên một điều kiện nào đó."
      ]
    },
    {
      "cell_type": "code",
      "metadata": {
        "id": "f2f13f99"
      },
      "source": [
        "# Ví dụ về câu lệnh điều kiện\n",
        "diem = 7\n",
        "\n",
        "if diem >= 5:\n",
        "    print(\"Bạn đã đỗ!\")\n",
        "else:\n",
        "    print(\"Bạn cần cố gắng hơn!\")"
      ],
      "execution_count": null,
      "outputs": []
    },
    {
      "cell_type": "markdown",
      "metadata": {
        "id": "468153d9"
      },
      "source": [
        "### 5. Vòng lặp (for, while)\n",
        "\n",
        "Vòng lặp giúp chúng ta thực hiện một đoạn mã nhiều lần.\n",
        "\n",
        "*   **Vòng lặp `for`:** Thường được sử dụng khi bạn biết trước số lần lặp hoặc muốn lặp qua các phần tử của một tập hợp (ví dụ: danh sách, chuỗi).\n",
        "*   **Vòng lặp `while`:** Lặp lại chừng nào một điều kiện vẫn còn đúng."
      ]
    },
    {
      "cell_type": "code",
      "metadata": {
        "id": "4ba3ffaf"
      },
      "source": [
        "# Ví dụ về vòng lặp for\n",
        "print(\"Ví dụ vòng lặp for:\")\n",
        "for i in range(5): # Lặp từ 0 đến 4\n",
        "    print(i)\n",
        "\n",
        "# Ví dụ về vòng lặp while\n",
        "print(\"\\nVí dụ vòng lặp while:\")\n",
        "j = 0\n",
        "while j < 3:\n",
        "    print(j)\n",
        "    j += 1 # Tăng giá trị của j sau mỗi lần lặp"
      ],
      "execution_count": null,
      "outputs": []
    },
    {
      "cell_type": "markdown",
      "metadata": {
        "id": "e01e53a5"
      },
      "source": [
        "### Tóm tắt bài học\n",
        "\n",
        "Trong bài học đầu tiên này, chúng ta đã làm quen với:\n",
        "\n",
        "*   Hàm `print()` để in ra màn hình.\n",
        "*   Khái niệm biến và các kiểu dữ liệu cơ bản.\n",
        "*   Các phép toán số học.\n",
        "*   Câu lệnh điều kiện (`if`, `elif`, `else`).\n",
        "*   Vòng lặp (`for`, `while`).\n"
      ]
    }
  ],
  "metadata": {
    "colab": {
      "name": "Welcome To Colab",
      "toc_visible": true,
      "provenance": [],
      "include_colab_link": true
    },
    "kernelspec": {
      "display_name": "Python 3",
      "name": "python3"
    }
  },
  "nbformat": 4,
  "nbformat_minor": 0
}
